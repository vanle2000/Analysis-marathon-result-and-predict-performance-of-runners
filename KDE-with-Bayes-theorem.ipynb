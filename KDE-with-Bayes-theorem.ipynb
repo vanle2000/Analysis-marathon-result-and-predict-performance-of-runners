{
 "cells": [
  {
   "cell_type": "markdown",
   "metadata": {
    "id": "MFOuhVpZk7DT"
   },
   "source": [
    "# PROJECT 4: Analysis of Marathon Results with Kernel Density Estimate and Bayes Theorem\n",
    "# Van Le\n",
    "# ID: 5036 1991\n",
    "# MTH 448\n",
    "# May 14, 2023"
   ]
  },
  {
   "cell_type": "markdown",
   "metadata": {
    "id": "jXyIkgANL-jW"
   },
   "source": [
    "# 1. Introduction:"
   ]
  },
  {
   "cell_type": "markdown",
   "metadata": {
    "id": "4Y3MRCg4L-mh"
   },
   "source": [
    "The analysis of marathon data provides valuable insights into the performance and characteristics of runners in one of the most iconic long-distance running events. We delve into the marathon data to uncover interesting patterns and relationships among various factors. We can gain a deeper understanding of the factors influencing marathon performance and make accurate predictions about runner characteristics by using Kernel Density Estimates and Bayes Theorem. In this project, we focus on the following key reasons for utilizing KDE 1-dimension and 2-dimension and also make comparision to K-nearest neighbors. The notebook discovers these questions:\n",
    "\n",
    "\n",
    "1. Gender-based Analysis: We compute a 1-dimensional Kernel Density Estimate (KDE) for male and female runners using their finish times. By applying the Bayes theorem, we determine the probability that a runner with a given finish time is female. \n",
    "\n",
    "2. Age and Finish Time Relationship: we extend the KDE approach to a 2-dimensional setting, we explore the joint distribution of finish times and ages.\n",
    "\n",
    "3. Comparing Predictive Models: In order to assess the effectiveness of our KDE-based predictions, we compare them with predictions derived from the k-Nearest Neighbors (k-NN) algorithm. By using the same input data, we evaluate the accuracy of predictions obtained from both approaches, providing insights into the relative performance of these models.\n",
    "\n",
    "4. Linear Regression and Predictive Power: Next, we compute linear regression to predict finish times based on the 5K times of runners. Further exploration of extra features to see if the predictive model is significant improve."
   ]
  },
  {
   "cell_type": "markdown",
   "metadata": {
    "id": "wGO6p85Jljnx"
   },
   "source": [
    "**Import** **libraries**"
   ]
  },
  {
   "cell_type": "code",
   "execution_count": 1,
   "metadata": {
    "id": "BwoHZ2vsGpzc"
   },
   "outputs": [],
   "source": [
    "import json\n",
    "import pandas as pd\n",
    "import seaborn as sns\n",
    "import matplotlib.pyplot as plt\n",
    "import numpy as np\n",
    "import plotly.graph_objects as go\n",
    "from scipy.stats import norm, gaussian_kde\n",
    "from datetime import datetime\n",
    "from ipywidgets import interact, fixed, FloatSlider\n",
    "from sklearn.preprocessing import StandardScaler, OneHotEncoder\n",
    "from sklearn.compose import ColumnTransformer\n",
    "from sklearn.model_selection import train_test_split, GridSearchCV\n",
    "from sklearn.neighbors import KNeighborsClassifier, KNeighborsRegressor\n",
    "from sklearn.linear_model import LinearRegression\n",
    "from sklearn.metrics import confusion_matrix, accuracy_score, precision_score, mean_squared_error, r2_score, classification_report\n"
   ]
  },
  {
   "cell_type": "markdown",
   "metadata": {
    "id": "JSEodzv0L-nj"
   },
   "source": [
    "# 2. Dataset:"
   ]
  },
  {
   "cell_type": "markdown",
   "metadata": {
    "id": "Ckfr3ug8M9pU"
   },
   "source": [
    "`csv` file which contains race results of about 26,000 marathon runners: `marathon_results.csv`.\n",
    "This dataset contains information about the runners age, gender, nationality, split times, finishing time, pace, rankings, and divisions of the runners in a marathon race. It provides detail into the performance and characteristics of the participants in terms of length of run. "
   ]
  },
  {
   "cell_type": "code",
   "execution_count": 2,
   "metadata": {
    "colab": {
     "base_uri": "https://localhost:8080/",
     "height": 268
    },
    "id": "iMie1eygMGnB",
    "outputId": "910fef8a-ec6f-4049-8f48-966d66b2d2d2"
   },
   "outputs": [
    {
     "data": {
      "text/html": [
       "<div>\n",
       "<style scoped>\n",
       "    .dataframe tbody tr th:only-of-type {\n",
       "        vertical-align: middle;\n",
       "    }\n",
       "\n",
       "    .dataframe tbody tr th {\n",
       "        vertical-align: top;\n",
       "    }\n",
       "\n",
       "    .dataframe thead th {\n",
       "        text-align: right;\n",
       "    }\n",
       "</style>\n",
       "<table border=\"1\" class=\"dataframe\">\n",
       "  <thead>\n",
       "    <tr style=\"text-align: right;\">\n",
       "      <th></th>\n",
       "      <th>Age</th>\n",
       "      <th>M/F</th>\n",
       "      <th>Country</th>\n",
       "      <th>5K</th>\n",
       "      <th>10K</th>\n",
       "      <th>15K</th>\n",
       "      <th>20K</th>\n",
       "      <th>Half</th>\n",
       "      <th>25K</th>\n",
       "      <th>30K</th>\n",
       "      <th>35K</th>\n",
       "      <th>40K</th>\n",
       "      <th>Finish</th>\n",
       "      <th>Pace</th>\n",
       "      <th>Overall</th>\n",
       "      <th>Gender</th>\n",
       "      <th>Division</th>\n",
       "    </tr>\n",
       "  </thead>\n",
       "  <tbody>\n",
       "    <tr>\n",
       "      <th>21152</th>\n",
       "      <td>45</td>\n",
       "      <td>M</td>\n",
       "      <td>USA</td>\n",
       "      <td>00:33:05</td>\n",
       "      <td>01:01:31</td>\n",
       "      <td>01:29:43</td>\n",
       "      <td>01:58:27</td>\n",
       "      <td>02:04:40</td>\n",
       "      <td>02:27:32</td>\n",
       "      <td>02:58:22</td>\n",
       "      <td>03:30:44</td>\n",
       "      <td>04:04:41</td>\n",
       "      <td>04:15:45</td>\n",
       "      <td>00:09:46</td>\n",
       "      <td>21327</td>\n",
       "      <td>12255</td>\n",
       "      <td>2196</td>\n",
       "    </tr>\n",
       "    <tr>\n",
       "      <th>15394</th>\n",
       "      <td>35</td>\n",
       "      <td>F</td>\n",
       "      <td>USA</td>\n",
       "      <td>00:24:54</td>\n",
       "      <td>00:49:20</td>\n",
       "      <td>01:15:18</td>\n",
       "      <td>01:40:28</td>\n",
       "      <td>01:45:51</td>\n",
       "      <td>02:05:52</td>\n",
       "      <td>02:33:04</td>\n",
       "      <td>03:02:11</td>\n",
       "      <td>03:33:06</td>\n",
       "      <td>03:46:57</td>\n",
       "      <td>00:08:40</td>\n",
       "      <td>15480</td>\n",
       "      <td>5518</td>\n",
       "      <td>3583</td>\n",
       "    </tr>\n",
       "    <tr>\n",
       "      <th>19961</th>\n",
       "      <td>68</td>\n",
       "      <td>M</td>\n",
       "      <td>USA</td>\n",
       "      <td>00:26:57</td>\n",
       "      <td>00:56:11</td>\n",
       "      <td>01:23:34</td>\n",
       "      <td>01:56:37</td>\n",
       "      <td>02:02:58</td>\n",
       "      <td>02:25:37</td>\n",
       "      <td>02:57:35</td>\n",
       "      <td>03:27:45</td>\n",
       "      <td>03:55:08</td>\n",
       "      <td>04:07:22</td>\n",
       "      <td>00:09:27</td>\n",
       "      <td>20111</td>\n",
       "      <td>11787</td>\n",
       "      <td>159</td>\n",
       "    </tr>\n",
       "    <tr>\n",
       "      <th>8837</th>\n",
       "      <td>42</td>\n",
       "      <td>M</td>\n",
       "      <td>USA</td>\n",
       "      <td>00:22:30</td>\n",
       "      <td>00:44:27</td>\n",
       "      <td>01:06:58</td>\n",
       "      <td>01:30:24</td>\n",
       "      <td>01:35:40</td>\n",
       "      <td>01:54:52</td>\n",
       "      <td>02:19:52</td>\n",
       "      <td>02:45:03</td>\n",
       "      <td>03:12:48</td>\n",
       "      <td>03:26:17</td>\n",
       "      <td>00:07:53</td>\n",
       "      <td>8861</td>\n",
       "      <td>7051</td>\n",
       "      <td>1307</td>\n",
       "    </tr>\n",
       "    <tr>\n",
       "      <th>15858</th>\n",
       "      <td>66</td>\n",
       "      <td>M</td>\n",
       "      <td>CAN</td>\n",
       "      <td>00:28:46</td>\n",
       "      <td>00:54:26</td>\n",
       "      <td>01:20:39</td>\n",
       "      <td>01:46:55</td>\n",
       "      <td>01:52:36</td>\n",
       "      <td>02:13:08</td>\n",
       "      <td>02:40:51</td>\n",
       "      <td>03:09:23</td>\n",
       "      <td>03:36:21</td>\n",
       "      <td>03:48:38</td>\n",
       "      <td>00:08:44</td>\n",
       "      <td>15954</td>\n",
       "      <td>10127</td>\n",
       "      <td>48</td>\n",
       "    </tr>\n",
       "  </tbody>\n",
       "</table>\n",
       "</div>"
      ],
      "text/plain": [
       "       Age M/F Country        5K       10K       15K       20K      Half  \\\n",
       "21152   45   M     USA  00:33:05  01:01:31  01:29:43  01:58:27  02:04:40   \n",
       "15394   35   F     USA  00:24:54  00:49:20  01:15:18  01:40:28  01:45:51   \n",
       "19961   68   M     USA  00:26:57  00:56:11  01:23:34  01:56:37  02:02:58   \n",
       "8837    42   M     USA  00:22:30  00:44:27  01:06:58  01:30:24  01:35:40   \n",
       "15858   66   M     CAN  00:28:46  00:54:26  01:20:39  01:46:55  01:52:36   \n",
       "\n",
       "            25K       30K       35K       40K    Finish      Pace  Overall  \\\n",
       "21152  02:27:32  02:58:22  03:30:44  04:04:41  04:15:45  00:09:46    21327   \n",
       "15394  02:05:52  02:33:04  03:02:11  03:33:06  03:46:57  00:08:40    15480   \n",
       "19961  02:25:37  02:57:35  03:27:45  03:55:08  04:07:22  00:09:27    20111   \n",
       "8837   01:54:52  02:19:52  02:45:03  03:12:48  03:26:17  00:07:53     8861   \n",
       "15858  02:13:08  02:40:51  03:09:23  03:36:21  03:48:38  00:08:44    15954   \n",
       "\n",
       "       Gender  Division  \n",
       "21152   12255      2196  \n",
       "15394    5518      3583  \n",
       "19961   11787       159  \n",
       "8837     7051      1307  \n",
       "15858   10127        48  "
      ]
     },
     "execution_count": 2,
     "metadata": {},
     "output_type": "execute_result"
    }
   ],
   "source": [
    "df = pd.read_csv(\"marathon_results.csv\")\n",
    "df.sample(5)"
   ]
  },
  {
   "cell_type": "code",
   "execution_count": 3,
   "metadata": {
    "colab": {
     "base_uri": "https://localhost:8080/"
    },
    "id": "j4xmhRQWEPeW",
    "outputId": "35ecdf48-f8cc-45c1-a945-400d11ee37bf"
   },
   "outputs": [
    {
     "name": "stdout",
     "output_type": "stream",
     "text": [
      "<class 'pandas.core.frame.DataFrame'>\n",
      "RangeIndex: 26298 entries, 0 to 26297\n",
      "Data columns (total 17 columns):\n",
      " #   Column    Non-Null Count  Dtype \n",
      "---  ------    --------------  ----- \n",
      " 0   Age       26298 non-null  int64 \n",
      " 1   M/F       26298 non-null  object\n",
      " 2   Country   26298 non-null  object\n",
      " 3   5K        26298 non-null  object\n",
      " 4   10K       26298 non-null  object\n",
      " 5   15K       26298 non-null  object\n",
      " 6   20K       26298 non-null  object\n",
      " 7   Half      26298 non-null  object\n",
      " 8   25K       26298 non-null  object\n",
      " 9   30K       26298 non-null  object\n",
      " 10  35K       26298 non-null  object\n",
      " 11  40K       26298 non-null  object\n",
      " 12  Finish    26298 non-null  object\n",
      " 13  Pace      26298 non-null  object\n",
      " 14  Overall   26298 non-null  int64 \n",
      " 15  Gender    26298 non-null  int64 \n",
      " 16  Division  26298 non-null  int64 \n",
      "dtypes: int64(4), object(13)\n",
      "memory usage: 3.4+ MB\n"
     ]
    }
   ],
   "source": [
    "df.info()"
   ]
  },
  {
   "cell_type": "markdown",
   "metadata": {
    "id": "Fv2QvJV8HmsW"
   },
   "source": [
    "## 2.1. Data Preprocessing"
   ]
  },
  {
   "cell_type": "code",
   "execution_count": 4,
   "metadata": {},
   "outputs": [],
   "source": [
    "# Calculates the total minutes it took for each runner to finish the marathon race \n",
    "df['Total_minutes'] = pd.to_timedelta(df['Finish']).dt.total_seconds()/60"
   ]
  },
  {
   "cell_type": "code",
   "execution_count": 5,
   "metadata": {
    "colab": {
     "base_uri": "https://localhost:8080/",
     "height": 319
    },
    "id": "4VkFcZR8EW9x",
    "outputId": "68fae9e0-f523-4a72-f425-434adea932f7"
   },
   "outputs": [
    {
     "data": {
      "text/plain": [
       "Text(0.5, 1.0, 'Figure 1. Finish time in minutes')"
      ]
     },
     "execution_count": 5,
     "metadata": {},
     "output_type": "execute_result"
    },
    {
     "data": {
      "image/png": "[encoded data removed]",
      "text/plain": [
       "<Figure size 432x216 with 1 Axes>"
      ]
     },
     "metadata": {
      "needs_background": "light"
     },
     "output_type": "display_data"
    }
   ],
   "source": [
    "# Plot histogram\n",
    "plt.figure(figsize=(6, 3))\n",
    "sns.set_theme(style=\"darkgrid\", palette=\"bright\")\n",
    "sns.histplot(df['Total_minutes'], bins=20)\n",
    "plt.xlabel(\"Finish Time\")\n",
    "plt.title(\"Figure 1. Finish time in minutes\")"
   ]
  },
  {
   "cell_type": "markdown",
   "metadata": {},
   "source": [
    "The figure 1 shows the distribution of finish times in minutes. The histogram is divided into 20 bins which demonstrate the spread of finish times across 20 different finish time ranges. The majority total time to finish is likely to be more than 200 minutes."
   ]
  },
  {
   "cell_type": "code",
   "execution_count": 6,
   "metadata": {
    "colab": {
     "base_uri": "https://localhost:8080/",
     "height": 319
    },
    "id": "VrhEpOWFEW_8",
    "outputId": "0a00e06a-a414-490d-d013-791f921341fa"
   },
   "outputs": [
    {
     "data": {
      "text/plain": [
       "Text(0.5, 1.0, 'Figure 2. Finish time in minutes')"
      ]
     },
     "execution_count": 6,
     "metadata": {},
     "output_type": "execute_result"
    },
    {
     "data": {
      "image/png": "[encoded data removed]",
      "text/plain": [
       "<Figure size 432x216 with 1 Axes>"
      ]
     },
     "metadata": {},
     "output_type": "display_data"
    }
   ],
   "source": [
    "# Plot density plot\n",
    "np.histogram(df['Total_minutes'], bins=20) \n",
    "plt.figure(figsize=(6, 3))\n",
    "sns.set_theme(style=\"darkgrid\", palette=\"bright\")\n",
    "sns.histplot(df['Total_minutes'], bins=20, stat=\"density\")\n",
    "plt.xlabel(\"Finish Time\")\n",
    "plt.title(\"Figure 2. Finish time in minutes\")"
   ]
  },
  {
   "cell_type": "markdown",
   "metadata": {},
   "source": [
    "In figure 2, the density distribution of finish times in minutes, and it seems like normal distribution."
   ]
  },
  {
   "cell_type": "markdown",
   "metadata": {
    "id": "5gqios1oHgnf"
   },
   "source": [
    "## 2.2. Data Splitting"
   ]
  },
  {
   "cell_type": "markdown",
   "metadata": {},
   "source": [
    "Let's split our dataset into trainig data, validate data and test data. 70% of data is for `train_df`, 30% is equally divided into `valid_df` and `test_df`."
   ]
  },
  {
   "cell_type": "code",
   "execution_count": 7,
   "metadata": {
    "id": "2C6dpY1ZEXGv"
   },
   "outputs": [],
   "source": [
    "train_df, test_df = train_test_split(df, test_size=.5, random_state=123)\n",
    "valid_df, test_df = train_test_split(test_df, test_size=.5, random_state=123)"
   ]
  },
  {
   "cell_type": "markdown",
   "metadata": {},
   "source": [
    "Filtering the data based on `Gender`"
   ]
  },
  {
   "cell_type": "code",
   "execution_count": 8,
   "metadata": {
    "colab": {
     "base_uri": "https://localhost:8080/"
    },
    "id": "q-3f2-8hEXJU",
    "outputId": "02235fd9-cc1c-4196-c719-418f99517564"
   },
   "outputs": [],
   "source": [
    "# Filter the whole dataset based on gender\n",
    "dfm = df[df['M/F']=='M']\n",
    "dff = df[df['M/F']=='F']\n",
    "# Train set for male and female\n",
    "dfm_train = train_df[train_df['M/F'] == 'M']\n",
    "dff_train = train_df[train_df['M/F'] == 'F']\n",
    "# Test set for male and female\n",
    "dfm_test = test_df[test_df['M/F'] == 'M']\n",
    "dff_test = test_df[test_df['M/F'] == 'F']\n",
    "# Valid set for male and female\n",
    "dfm_valid = valid_df[valid_df['M/F'] == 'M']\n",
    "dff_valid = valid_df[valid_df['M/F'] == 'F']"
   ]
  },
  {
   "cell_type": "markdown",
   "metadata": {
    "id": "Tg0ex_3rL-oq"
   },
   "source": [
    "# 3. Kernel Density Estimation:\n",
    "\n",
    "In statistics, kernel density estimation (KDE) is the application of kernel smoothing for probabiliy density estimation. KDE answers a fundamental data smoothing problem where inferences about the population are made, based on a finite data sample. "
   ]
  },
  {
   "cell_type": "markdown",
   "metadata": {
    "id": "P-QtwqIJMOfu"
   },
   "source": [
    "## 3.1. KDE for 1-dimension"
   ]
  },
  {
   "cell_type": "markdown",
   "metadata": {},
   "source": [
    "### 3.1.1. Algorithms\n",
    "\n",
    "KDE model is a non-paramtric method used to estimate the probability density function of a random variable. . It is using a smooth peak function called kernel to fit the observed data points, thereby simulating the true probability distribution curve. In 1-dimensional dataset `Total_minutes`, the KDE model provides an estimation of the underlying probability distribution that generated the observed data. \n",
    "* $K$ is kernel function and $h$ is a smoothing parameter, called bandwidth or window. \n",
    "\n",
    "* Kernel function is selected, which determines the shape of the probability distribution around each data point. Common kernel functions include Gaussian (normal) distribution, Epanechnikov or triangular distribution. We will use Gaussian kernel function on our KDE models. For each data point, a kernel fucntion is centered at that point, and the contributions of all kernel funciton are summed to obtain the estimated density at that point [1]\n",
    "\n",
    "* Bandwidth parameter controls the width of the kernel function. "
   ]
  },
  {
   "cell_type": "markdown",
   "metadata": {
    "id": "pdAZPhM2F_xw"
   },
   "source": [
    "### 3.1.2. Model Development"
   ]
  },
  {
   "cell_type": "code",
   "execution_count": 9,
   "metadata": {
    "id": "-DHqkr-iMrku"
   },
   "outputs": [],
   "source": [
    "def kde(data, h, x):\n",
    "    \"\"\"\n",
    "    Compute KDE of data with Gaussian kernels\n",
    "\n",
    "    x:\n",
    "       KDE value will be computed for each value of this array.\n",
    "    h:\n",
    "       Kernel bandwidth\n",
    "    \"\"\"\n",
    "\n",
    "    y = np.zeros_like(x)\n",
    "    for X in data:\n",
    "        y += norm.pdf(x, loc=X, scale=h) # sum up all normal distributions\n",
    "    return y/len(data)\n",
    "\n",
    "\n",
    "def plot_kde(data, h=0.1, show_kernels=False):\n",
    "    \"\"\"\n",
    "    Plot KDE\n",
    "\n",
    "    data:\n",
    "        An array with data defining KDE.\n",
    "    h:\n",
    "        Kernel bandwidth.\n",
    "    show_kernels:\n",
    "        Boolean. If true, individual kernels are plotted too.\n",
    "    \"\"\"\n",
    "\n",
    "    x = np.linspace(data.min() - 3, data.max() + 3, 400)\n",
    "    plt.figure(figsize=(6,3))\n",
    "    plt.plot(x, kde(data, h, x), lw=7, c='steelblue', alpha=0.4)\n",
    "    plt.plot(data, [0]*len(data), 'r|', ms=15, mew=2)\n",
    "    if show_kernels:\n",
    "        for X in data:\n",
    "            plt.plot(x, 1/len(data)*norm.pdf(x, loc=X, scale=h), 'r--', lw=0.7)"
   ]
  },
  {
   "cell_type": "markdown",
   "metadata": {},
   "source": [
    "Create a kernel density estimation (KDE) plot for the 'Total_minutes' feature in the training data"
   ]
  },
  {
   "cell_type": "code",
   "execution_count": 10,
   "metadata": {},
   "outputs": [
    {
     "data": {
      "text/plain": [
       "[<matplotlib.lines.Line2D at 0x7fd7b1278310>]"
      ]
     },
     "execution_count": 10,
     "metadata": {},
     "output_type": "execute_result"
    },
    {
     "data": {
      "image/png": "[encoded data removed]",
      "text/plain": [
       "<Figure size 432x216 with 1 Axes>"
      ]
     },
     "metadata": {},
     "output_type": "display_data"
    }
   ],
   "source": [
    "kde = gaussian_kde(train_df['Total_minutes'], bw_method=.01)\n",
    "plt.figure(figsize=(6, 3))\n",
    "x = np.linspace(120,500,400)\n",
    "plt.plot(x, kde(x))"
   ]
  },
  {
   "cell_type": "markdown",
   "metadata": {},
   "source": [
    "Create a KDE plot for male and female runners with bandwidth = 0.01"
   ]
  },
  {
   "cell_type": "code",
   "execution_count": 11,
   "metadata": {},
   "outputs": [
    {
     "data": {
      "text/plain": [
       "<matplotlib.legend.Legend at 0x7fd7d16d16d0>"
      ]
     },
     "execution_count": 11,
     "metadata": {},
     "output_type": "execute_result"
    },
    {
     "data": {
      "image/png": "[encoded data removed]",
      "text/plain": [
       "<Figure size 432x216 with 1 Axes>"
      ]
     },
     "metadata": {},
     "output_type": "display_data"
    }
   ],
   "source": [
    "kde_m = gaussian_kde(dfm['Total_minutes'], bw_method=.01)\n",
    "kde_f = gaussian_kde(dff['Total_minutes'], bw_method=.01)\n",
    "\n",
    "plt.figure(figsize=(6, 3))\n",
    "x = np.linspace(120,500,400)\n",
    "plt.plot(x, kde_m(x),label='M')\n",
    "plt.plot(x, kde_f(x),label='F')\n",
    "plt.title(\"Figure 3. Gaussian KDE for male and female runners with bandwidth = 0.01\")\n",
    "plt.legend()"
   ]
  },
  {
   "cell_type": "markdown",
   "metadata": {},
   "source": [
    "Create a KDE plot for male and female runners with bandwidth = 0.3"
   ]
  },
  {
   "cell_type": "code",
   "execution_count": 12,
   "metadata": {},
   "outputs": [
    {
     "data": {
      "text/plain": [
       "<matplotlib.legend.Legend at 0x7fd7d16d1af0>"
      ]
     },
     "execution_count": 12,
     "metadata": {},
     "output_type": "execute_result"
    },
    {
     "data": {
      "image/png": "[encoded data removed]",
      "text/plain": [
       "<Figure size 432x216 with 1 Axes>"
      ]
     },
     "metadata": {},
     "output_type": "display_data"
    }
   ],
   "source": [
    "kde_m = gaussian_kde(dfm['Total_minutes'], bw_method=0.3)\n",
    "kde_f = gaussian_kde(dff['Total_minutes'], bw_method=0.3)\n",
    "\n",
    "plt.figure(figsize=(6, 3))\n",
    "x = np.linspace(120,500,400)\n",
    "plt.plot(x, kde_m(x),label='M')\n",
    "plt.plot(x, kde_f(x),label='F')\n",
    "plt.title(\"Figure 4. Gaussian KDE for male and female runners with bandwidth = 0.3\")\n",
    "plt.legend()"
   ]
  },
  {
   "cell_type": "markdown",
   "metadata": {},
   "source": [
    "From Figure 3. and 4., higher bandwidth value, smoother the curve of KDE. It's important to choose an appropriate bandwidth value for our data so we'll select the best bandwidth for KDE via cross-validation."
   ]
  },
  {
   "cell_type": "markdown",
   "metadata": {
    "id": "RvQyC6jDF9jM"
   },
   "source": [
    "### 3.1.2. Select the bandwidth via Cross-Validation"
   ]
  },
  {
   "cell_type": "markdown",
   "metadata": {},
   "source": [
    "The bandwidth of the kernel is a free parameter which exhibits a strong influence on the resulting estimate. Too narrow a bandwidth leads to a high-variance estimate (i.e., overfitting), where the presence or absence of a single point makes a large difference. Too wide a bandwidth leads to a high-bias estimate (i.e., underfitting), where the structure in the data is washed out by the wide kernel [2].\n",
    " \n",
    "* A small $h$ results in a small standard deviation, and the kernel places most of the probability on the data. Use this when the sample size is large and the data are tightly packed [1].\n",
    "* A large $h$ results in a large standard deviation, and the kernel spreads more of the probability from the data to its neighbouring values. Use this when the sample size is small and the data are sparse. Generally use the size of MISE (Mean Integrated Squared Error) to measure the performance of $h$ [1]. "
   ]
  },
  {
   "cell_type": "markdown",
   "metadata": {
    "id": "xnIdNnx1ioqY"
   },
   "source": [
    "We will find the best estimator bandwidth for male KDE and female KDE. Therefore, we calculate the log likelihood fo each value. "
   ]
  },
  {
   "cell_type": "code",
   "execution_count": 13,
   "metadata": {
    "colab": {
     "base_uri": "https://localhost:8080/",
     "height": 130
    },
    "id": "9AMstALfF-P7",
    "outputId": "3d98fc24-109e-4fba-fab0-03c9bcaa9469"
   },
   "outputs": [
    {
     "name": "stderr",
     "output_type": "stream",
     "text": [
      "/var/folders/nv/g99lnjz16bb71bhj2kx_xw4r0000gn/T/ipykernel_57437/1375382518.py:11: RuntimeWarning: divide by zero encountered in log\n",
      "  log_likelihood_f = np.log(kde_f(dff_valid['Total_minutes'])).sum()\n"
     ]
    },
    {
     "name": "stdout",
     "output_type": "stream",
     "text": [
      "The best estimator bandwidth for male is: %.2f 0.12\n",
      "The best estimator bandwidth for female is: %.2f 0.13\n"
     ]
    }
   ],
   "source": [
    "# List of bandwidth values \n",
    "bw_choices_m = []\n",
    "bw_choices_f = []\n",
    "\n",
    "for bw in np.linspace(0.01, 1, 100):\n",
    "  # Estimate Gaussian KDE in train set for different bandwidth values \n",
    "    kde_m = gaussian_kde(dfm_train['Total_minutes'], bw_method=bw)\n",
    "    kde_f = gaussian_kde(dff_train['Total_minutes'], bw_method=bw)\n",
    "  # Calculate the likelihood in validation data\n",
    "    log_likelihood_m = np.log(kde_m(dfm_valid['Total_minutes'])).sum()\n",
    "    log_likelihood_f = np.log(kde_f(dff_valid['Total_minutes'])).sum()\n",
    "  # Store bandwidth values and log likelihood in the list\n",
    "    bw_choices_m.append((bw, log_likelihood_m))\n",
    "    bw_choices_f.append((bw, log_likelihood_f))\n",
    "\n",
    "# Calucalate the best bandwidth values\n",
    "bw_m = np.array(bw_choices_m)\n",
    "bw_f = np.array(bw_choices_f)\n",
    "best_bw_m = bw_m[:,0][bw_m[:,1]==bw_m[:,1].max()].item()\n",
    "best_bw_f = bw_f[:,0][bw_f[:,1]==bw_f[:,1].max()].item()\n",
    "\n",
    "# Print the best bandwidth result \n",
    "print(\"The best estimator bandwidth for male is: %.2f\", best_bw_m)\n",
    "print(\"The best estimator bandwidth for female is: %.2f\", best_bw_f)"
   ]
  },
  {
   "cell_type": "markdown",
   "metadata": {},
   "source": [
    "The best estimator bandwidth for male is: 0.12 and for female is: 0.13. We now plot 1-D KDE with the best bandwidth for male and female separately. "
   ]
  },
  {
   "cell_type": "code",
   "execution_count": 14,
   "metadata": {},
   "outputs": [
    {
     "data": {
      "text/plain": [
       "<matplotlib.legend.Legend at 0x7fd7e118d790>"
      ]
     },
     "execution_count": 14,
     "metadata": {},
     "output_type": "execute_result"
    },
    {
     "data": {
      "image/png": "[encoded data removed]",
      "text/plain": [
       "<Figure size 432x216 with 1 Axes>"
      ]
     },
     "metadata": {},
     "output_type": "display_data"
    }
   ],
   "source": [
    "# Compute the density estimates with its best bandwith parameter\n",
    "kde_m = gaussian_kde(dfm['Total_minutes'], bw_method=best_bw_m)\n",
    "kde_f = gaussian_kde(dff['Total_minutes'], bw_method=best_bw_f)\n",
    "# Plotting the best bandwith parameter\n",
    "plt.figure(figsize=(6, 3))\n",
    "x = np.linspace(120,500,400)\n",
    "plt.plot(x, kde_m(x),label='M')\n",
    "plt.plot(x, kde_f(x),label='F')\n",
    "plt.title(\"Figure 5. Gaussian KDE for male and female runners with their best bandwidth\")\n",
    "plt.legend()"
   ]
  },
  {
   "cell_type": "markdown",
   "metadata": {
    "id": "VzL75PRvFvRm"
   },
   "source": [
    "### 3.1.3. Bayes Theorem on 1-D KDE"
   ]
  },
  {
   "cell_type": "markdown",
   "metadata": {},
   "source": [
    "For Gaussian naive Bayes, the generative model is a simple axis-aligned Gaussian.\n",
    "With a density estimation algorithm like KDE, we can remove the \"naive\" element and perform the same classification with a more sophisticated generative model for each class. It's still Bayesian classification, but it's no longer naive [3].\n",
    "\n",
    "By combining KDE with Bayes theorem, we can make predictions about the gender of runners based on their finish times. By considering the likelihood of being male or female for a given finish time, we can classify runners into their respective genders, in this section we will make prediction of marathon participants' gender."
   ]
  },
  {
   "cell_type": "code",
   "execution_count": 15,
   "metadata": {},
   "outputs": [],
   "source": [
    "def prob_runtime_female(dfm, dff, kde_m, kde_f, time):\n",
    "    # Calculate the prior probability for male and female\n",
    "    prob_m = dfm_train['M/F'].count() / train_df['M/F'].count()\n",
    "    prob_f = dff_train['M/F'].count() / train_df['M/F'].count()\n",
    "    # Total probability\n",
    "    total_P = kde_m(time) * prob_m + kde_f(time) * prob_f \n",
    "    # Apply Bayes Theorem to calculate the posterior probability for female \n",
    "    posterior_f = kde_f(time) * prob_f / total_P  \n",
    "\n",
    "    return posterior_f"
   ]
  },
  {
   "cell_type": "code",
   "execution_count": 18,
   "metadata": {},
   "outputs": [
    {
     "name": "stdout",
     "output_type": "stream",
     "text": [
      "Accuracy for 1-D KDE is : 0.6531295155525135\n"
     ]
    }
   ],
   "source": [
    "# Calculate the posterior probability of female in train set\n",
    "posterior_probs = []\n",
    "for index, row in train_df.iterrows():\n",
    "    time = row['Total_minutes']\n",
    "    time_reshaped = np.array([[time]]).reshape(1, 1)\n",
    "    posterior_prob = prob_runtime_female(dfm_train, dff_train, kde_m, kde_f, time_reshaped)\n",
    "    posterior_probs.append(posterior_prob)\n",
    "    \n",
    "# Predictions using 2-D KDE and Naive Bayes\n",
    "predictions = [1 if p > 0.5 else 0 for p in posterior_probs]\n",
    "actual_labels = train_df['M/F'].map({'M': 0, 'F': 1}).tolist()\n",
    "\n",
    "# Calculate accuracy\n",
    "accuracy = sum([1 if p == a else 0 for p, a in zip(predictions, actual_labels)]) / len(predictions)\n",
    "print(\"Accuracy for 1-D KDE is :\", accuracy)"
   ]
  },
  {
   "cell_type": "code",
   "execution_count": 19,
   "metadata": {},
   "outputs": [],
   "source": [
    "# Make prediction on test set\n",
    "posterior_probs_test = []\n",
    "for index, row in test_df.iterrows():\n",
    "    time = row['Total_minutes']\n",
    "    time_reshaped = np.array([[time]]).reshape(1, 1)\n",
    "    posterior_prob = prob_runtime_female(dfm_train, dff_train, kde_m, kde_f, time_reshaped)\n",
    "    posterior_probs_test.append(posterior_prob)\n",
    "\n",
    "predictions_test = [1 if p > 0.5 else 0 for p in posterior_probs_test]\n",
    "actual_labels_test = test_df['M/F'].map({'M': 0, 'F': 1}).tolist()"
   ]
  },
  {
   "cell_type": "markdown",
   "metadata": {},
   "source": [
    "### 3.1.4. Accuracy"
   ]
  },
  {
   "cell_type": "code",
   "execution_count": 20,
   "metadata": {},
   "outputs": [
    {
     "name": "stdout",
     "output_type": "stream",
     "text": [
      "Accuracy on test set: 0.6571863117870722\n"
     ]
    }
   ],
   "source": [
    "accuracy_test = sum([1 if p == a else 0 for p, a in zip(predictions_test, actual_labels_test)]) / len(predictions_test)\n",
    "print(\"Accuracy on test set:\", accuracy_test)"
   ]
  },
  {
   "cell_type": "markdown",
   "metadata": {},
   "source": [
    "The prediction of female runners based on their `Total_minutes` using 1-D KDE and Bayes' theorem yields an accuracy of 0.657 which is relatively successful in classifying the gender of runners based on their total time. By applying Bayes' theorem to calculate the posterior probability of being female, the model is able to make predictions with a relatively high level of accuracy.\n",
    "\n",
    "However, we can try to do better, may be additional features that can contribute to a more accurate prediction of female runners. We will explore 2-dimensional KDE models with additional features `Age` to see if it potentially enhance the accuracy of our prediction. "
   ]
  },
  {
   "cell_type": "markdown",
   "metadata": {
    "id": "HBYuWw8uMOh5"
   },
   "source": [
    "## 3.2. KDE for 2-dimension\n",
    "\n",
    "  Compute 2-dimensional kernel density estimate (KDE) of male and female runners using finish times and ages of runners, and use it together with the Bayes theorem to compute the probability that a runner with a given time was a female. Use this to make predictions if a runner was a male/female based on their finish times and check accuracy of these predictions.\n",
    "  \n",
    "  The two-dimensional kernel density estimation uses the principle of kernel density estimation to plot the density of points on the two-dimensional plane. It is a method to express probability density distribution through pixels. \n",
    "In principle, 2-D kernel density estimation is the expansion of 1-D situation. The space of dataset transfer from axis to a plane, so the each data point will have 2 dimention information. We need to choose another value format to describe the density. Consequently the value of pixels can be used to present the density. In 2-D KDE, we use the distance parameter `dist` to replace the single parameter in 1-D dimention.\n"
   ]
  },
  {
   "cell_type": "markdown",
   "metadata": {
    "id": "zCPzRck3GXRZ"
   },
   "source": [
    "### 3.2.1. Model Development"
   ]
  },
  {
   "cell_type": "code",
   "execution_count": 21,
   "metadata": {
    "colab": {
     "base_uri": "https://localhost:8080/",
     "height": 542
    },
    "id": "uHkpmF5LMWoe",
    "outputId": "d5b8146e-c8d8-4d53-dbd7-fa92e8153688"
   },
   "outputs": [
    {
     "data": {
      "text/plain": [
       "array([3.82708511e-37])"
      ]
     },
     "execution_count": 21,
     "metadata": {},
     "output_type": "execute_result"
    }
   ],
   "source": [
    "kde = gaussian_kde(train_df[['Total_minutes','Age']].T, bw_method = 0.3)\n",
    "kde([0.5, 0.5])"
   ]
  },
  {
   "cell_type": "code",
   "execution_count": 22,
   "metadata": {},
   "outputs": [
    {
     "name": "stderr",
     "output_type": "stream",
     "text": [
      "/var/folders/nv/g99lnjz16bb71bhj2kx_xw4r0000gn/T/ipykernel_57437/3101693015.py:8: MatplotlibDeprecationWarning: Auto-removal of grids by pcolor() and pcolormesh() is deprecated since 3.5 and will be removed two minor releases later; please call grid(False) first.\n",
      "  plt.colorbar()\n"
     ]
    },
    {
     "data": {
      "text/plain": [
       "Text(0, 0.5, 'Runner age')"
      ]
     },
     "execution_count": 22,
     "metadata": {},
     "output_type": "execute_result"
    },
    {
     "data": {
      "image/png": "[encoded data removed]",
      "text/plain": [
       "<Figure size 504x216 with 2 Axes>"
      ]
     },
     "metadata": {},
     "output_type": "display_data"
    }
   ],
   "source": [
    "x = np.linspace(120,360,100)\n",
    "y = np.linspace(10,70,100)\n",
    "X,Y = np.meshgrid(x,y)\n",
    "Z = kde([X.reshape(-1),Y.reshape(-1)]).reshape(X.shape)\n",
    "\n",
    "plt.figure(figsize=(7,3))\n",
    "plt.contourf(X,Y,Z,levels=10,cmap='Reds')\n",
    "plt.colorbar()\n",
    "plt.contour(X,Y,Z,levels=10,colors='k')\n",
    "plt.xlabel('Finish time')\n",
    "plt.ylabel('Runner age')"
   ]
  },
  {
   "cell_type": "code",
   "execution_count": 23,
   "metadata": {
    "id": "hK5jHiiGgV_k"
   },
   "outputs": [
    {
     "data": {
      "image/png": "[encoded data removed]",
      "text/plain": [
       "<Figure size 432x216 with 1 Axes>"
      ]
     },
     "metadata": {},
     "output_type": "display_data"
    }
   ],
   "source": [
    "plt.figure(figsize=(6,3))\n",
    "plt.scatter(df['Total_minutes'],df['Age'],alpha=.05)\n",
    "plt.xlabel(\"Total_minutes\")\n",
    "plt.ylabel(\"Age\")\n",
    "plt.title(\"Figure 7. Scatter plot of Total_minutes vs. Age\")\n",
    "plt.show()"
   ]
  },
  {
   "cell_type": "markdown",
   "metadata": {
    "id": "ia0wvXBmG5ct"
   },
   "source": [
    "### 3.2.2. Find the Bandwidth which gives the highest probability "
   ]
  },
  {
   "cell_type": "code",
   "execution_count": 24,
   "metadata": {
    "id": "rtY1EPL7G_jO"
   },
   "outputs": [
    {
     "name": "stderr",
     "output_type": "stream",
     "text": [
      "/var/folders/nv/g99lnjz16bb71bhj2kx_xw4r0000gn/T/ipykernel_57437/327396105.py:10: RuntimeWarning: divide by zero encountered in log\n",
      "  log_likelihood_m = np.log(kde_m(dfm_valid[['Total_minutes', 'Age']].T)).sum()\n",
      "/var/folders/nv/g99lnjz16bb71bhj2kx_xw4r0000gn/T/ipykernel_57437/327396105.py:11: RuntimeWarning: divide by zero encountered in log\n",
      "  log_likelihood_f = np.log(kde_f(dff_valid[['Total_minutes', 'Age']].T)).sum()\n",
      "/var/folders/nv/g99lnjz16bb71bhj2kx_xw4r0000gn/T/ipykernel_57437/327396105.py:11: RuntimeWarning: divide by zero encountered in log\n",
      "  log_likelihood_f = np.log(kde_f(dff_valid[['Total_minutes', 'Age']].T)).sum()\n"
     ]
    },
    {
     "name": "stdout",
     "output_type": "stream",
     "text": [
      "The best estimator bandwidth for male is:  [0.15530612]\n",
      "The best estimator bandwidth for female is:  [0.19163265]\n"
     ]
    }
   ],
   "source": [
    "# List of bandwidth values \n",
    "bw_choices_m = []\n",
    "bw_choices_f = []\n",
    "\n",
    "for bw in np.linspace(0.01, 0.9, 50):\n",
    "  # Estimate Gaussian KDE in train set for different bandwidth values \n",
    "    kde_m = gaussian_kde(dfm_train[['Total_minutes', 'Age']].T, bw_method=bw)\n",
    "    kde_f = gaussian_kde(dff_train[['Total_minutes', 'Age']].T, bw_method=bw)\n",
    "  # Calculate the likelihood in validation data\n",
    "    log_likelihood_m = np.log(kde_m(dfm_valid[['Total_minutes', 'Age']].T)).sum()\n",
    "    log_likelihood_f = np.log(kde_f(dff_valid[['Total_minutes', 'Age']].T)).sum()\n",
    "  # Store bandwidth values and log likelihood in the list\n",
    "    bw_choices_m.append((bw, log_likelihood_m))\n",
    "    bw_choices_f.append((bw, log_likelihood_f))\n",
    "\n",
    "# Convert the lists to NumPy arrays\n",
    "bw_m = np.array(bw_choices_m)\n",
    "bw_f = np.array(bw_choices_f)\n",
    "# Find the maximum log-likelihood values\n",
    "max_likelihood_m = bw_m[:, 1].max()\n",
    "max_likelihood_f = bw_f[:, 1].max()\n",
    "# Find the bandwidth values with the maximum log-likelihood\n",
    "best_bw_m = bw_m[:, 0][bw_m[:, 1] == max_likelihood_m]\n",
    "best_bw_f = bw_f[:, 0][bw_f[:, 1] == max_likelihood_f]\n",
    "\n",
    "# Print the best bandwidth result \n",
    "print(\"The best estimator bandwidth for male is: \", best_bw_m)\n",
    "print(\"The best estimator bandwidth for female is: \", best_bw_f)\n"
   ]
  },
  {
   "cell_type": "code",
   "execution_count": 25,
   "metadata": {},
   "outputs": [
    {
     "name": "stderr",
     "output_type": "stream",
     "text": [
      "/var/folders/nv/g99lnjz16bb71bhj2kx_xw4r0000gn/T/ipykernel_57437/2475824920.py:24: MatplotlibDeprecationWarning: Auto-removal of grids by pcolor() and pcolormesh() is deprecated since 3.5 and will be removed two minor releases later; please call grid(False) first.\n",
      "  plt.colorbar(label=\"Density\")\n"
     ]
    },
    {
     "data": {
      "image/png": "[encoded data removed]",
      "text/plain": [
       "<Figure size 432x216 with 2 Axes>"
      ]
     },
     "metadata": {},
     "output_type": "display_data"
    }
   ],
   "source": [
    "# Estimate Gaussian KDE in train set for different bandwidth values \n",
    "kde_m = gaussian_kde(dfm_test[['Total_minutes', 'Age']].T, bw_method=best_bw_m[0])\n",
    "kde_f = gaussian_kde(dff_test[['Total_minutes', 'Age']].T, bw_method=best_bw_f[0])\n",
    "\n",
    "# Create a grid of points for evaluation\n",
    "x, y = np.meshgrid(np.linspace(120, 500, 400), np.linspace(10, 80, 400))\n",
    "points = np.vstack([x.ravel(), y.ravel()])\n",
    "\n",
    "# Evaluate the KDE on the grid of points\n",
    "kde_m_vals = kde_m(points)\n",
    "kde_f_vals = kde_f(points)\n",
    "\n",
    "# Reshape the KDE values to match the grid shape\n",
    "kde_m_vals = kde_m_vals.reshape(x.shape)\n",
    "kde_f_vals = kde_f_vals.reshape(x.shape)\n",
    "\n",
    "# Plot the KDEs\n",
    "plt.figure(figsize=(6, 3))\n",
    "plt.contourf(x, y, kde_m_vals, cmap='Blues', levels=10, alpha=0.8)\n",
    "plt.contourf(x, y, kde_f_vals, cmap='Oranges', levels=10, alpha=0.8)\n",
    "plt.title(\"Figure 6. Gaussian KDE for male and female runners with their best bandwidth\")\n",
    "plt.xlabel(\"Total_minutes\")\n",
    "plt.ylabel(\"Age\")\n",
    "plt.colorbar(label=\"Density\")\n",
    "plt.legend(['M', 'F'])\n",
    "plt.show()"
   ]
  },
  {
   "cell_type": "markdown",
   "metadata": {},
   "source": [
    "Figure 8. gives density distribution across the `Total_minutes` and `Age` variables using the best bandwidth values `best_bw_m` and `best_bw_f` obtained previously."
   ]
  },
  {
   "cell_type": "markdown",
   "metadata": {},
   "source": [
    "### 3.2.3. Apply Bayes Theorem with 2-D KDE"
   ]
  },
  {
   "cell_type": "code",
   "execution_count": 26,
   "metadata": {
    "id": "gaDN5OwrgL88"
   },
   "outputs": [],
   "source": [
    "def prob_runtime_female(dfm, dff, kde_m, kde_f, time):\n",
    "    # Calculate the prior probability for male and female\n",
    "    prob_m = dfm_train['M/F'].count() / train_df['M/F'].count()\n",
    "    prob_f = dff_train['M/F'].count() / train_df['M/F'].count()\n",
    "    # Total probability\n",
    "    total_P = kde_m(time) * prob_m + kde_f(time) * prob_f \n",
    "    # Apply Bayes Theorem to calculate the posterior probability for female \n",
    "    posterior_f = kde_f(time) * prob_f / total_P  \n",
    "\n",
    "    return posterior_f"
   ]
  },
  {
   "cell_type": "code",
   "execution_count": 27,
   "metadata": {},
   "outputs": [
    {
     "name": "stdout",
     "output_type": "stream",
     "text": [
      "Accuracy for 2-D KDE is : 0.7573199482850407\n"
     ]
    }
   ],
   "source": [
    "# Calculate the posterior probability of female in train set\n",
    "posterior_probs = []\n",
    "for index, row in train_df.iterrows():\n",
    "    time = row['Total_minutes']\n",
    "    time_reshaped = np.array([time, row['Age']]).reshape(2, 1)\n",
    "    posterior_prob = prob_runtime_female(dfm_train, dff_train, kde_m, kde_f, time_reshaped)\n",
    "    posterior_probs.append(posterior_prob)\n",
    "    \n",
    "# Predictions using 2-D KDE and Naive Bayes\n",
    "predictions = [1 if p > 0.5 else 0 for p in posterior_probs]\n",
    "actual_labels = train_df['M/F'].map({'M': 0, 'F': 1}).tolist()\n",
    "\n",
    "# Calculate accuracy\n",
    "accuracy = sum([1 if p == a else 0 for p, a in zip(predictions, actual_labels)]) / len(predictions)\n",
    "print(\"Accuracy for 2-D KDE is :\", accuracy)"
   ]
  },
  {
   "cell_type": "code",
   "execution_count": 28,
   "metadata": {},
   "outputs": [],
   "source": [
    "# Make prediction on test set\n",
    "posterior_probs_test = []\n",
    "for index, row in test_df.iterrows():\n",
    "    time = row['Total_minutes']\n",
    "    time_reshaped = np.array([time, row['Age']]).reshape(2, 1)\n",
    "    posterior_prob = prob_runtime_female(dfm_train, dff_train, kde_m, kde_f, time_reshaped)\n",
    "    posterior_probs_test.append(posterior_prob)\n",
    "\n",
    "predictions_test = [1 if p > 0.5 else 0 for p in posterior_probs_test]\n",
    "actual_labels_test = test_df['M/F'].map({'M': 0, 'F': 1}).tolist()"
   ]
  },
  {
   "cell_type": "markdown",
   "metadata": {},
   "source": [
    "### 3.2.4. Acurracy"
   ]
  },
  {
   "cell_type": "code",
   "execution_count": 29,
   "metadata": {
    "id": "Nz4rN7QwM3ZC"
   },
   "outputs": [
    {
     "name": "stdout",
     "output_type": "stream",
     "text": [
      "Accuracy on test set: 0.7747528517110266\n"
     ]
    }
   ],
   "source": [
    "accuracy_test = sum([1 if p == a else 0 for p, a in zip(predictions_test, actual_labels_test)]) / len(predictions_test)\n",
    "print(\"Accuracy on test set:\", accuracy_test)"
   ]
  },
  {
   "cell_type": "markdown",
   "metadata": {},
   "source": [
    "The accuracy of 0.775 obtained using 2-D KDE for predicting female runners in the marathon dataset is higher compared to previous 1-dimensional KDE model. 2-D KDE achieved significant improvement on prediction the female runners on their `Total_minutes` and `Age`. I think because we trained the KDE with more input features, so it takes into account the relationship between these variables better. Therefore, we may want to compare our KDE models with other classifier such as KNN to see which algorithms work better to predict female runners based on the same features. "
   ]
  },
  {
   "cell_type": "markdown",
   "metadata": {
    "id": "KEj3Wb65McNn"
   },
   "source": [
    "# 4. Comparision KDE with KNN models:\n",
    "  In this section, we first train our data with KNN models then compare accuracy of predictions obtained from 1-D KDE and 2-D KDE in parts 1 and 2 to the predictions made using k- NN with the same input data."
   ]
  },
  {
   "cell_type": "code",
   "execution_count": 30,
   "metadata": {},
   "outputs": [
    {
     "data": {
      "image/png": "[encoded data removed]",
      "text/plain": [
       "<Figure size 432x288 with 2 Axes>"
      ]
     },
     "metadata": {},
     "output_type": "display_data"
    }
   ],
   "source": [
    "corr = df.corr()\n",
    "sns.heatmap(corr, annot=True)\n",
    "plt.title(\"Figure 9. Correlation Heatmap of Variables\")\n",
    "plt.show()"
   ]
  },
  {
   "cell_type": "markdown",
   "metadata": {},
   "source": [
    "From Figure 9. the relationship between `Gender` and `Age` / `Total_minutes` / `Overall` gives a high correlation. So, we will train our first KNN with `Total_minutes` to predict the sex of runners. Next, we will train our second KNN with both `Age` and `Total_minutes` to see if these features impressive improve the accurate prediction for gender of runners. "
   ]
  },
  {
   "cell_type": "markdown",
   "metadata": {
    "id": "fo-vNZeDMtmq"
   },
   "source": [
    "## 4.1. KNN with the `Total_minutes` feature"
   ]
  },
  {
   "cell_type": "code",
   "execution_count": 31,
   "metadata": {},
   "outputs": [
    {
     "data": {
      "text/plain": [
       "array(['F', 'F', 'M', ..., 'F', 'M', 'M'], dtype=object)"
      ]
     },
     "execution_count": 31,
     "metadata": {},
     "output_type": "execute_result"
    }
   ],
   "source": [
    "k=5\n",
    "neigh = KNeighborsClassifier(n_neighbors=k)\n",
    "neigh.fit(train_df[['Total_minutes']],train_df['M/F'])\n",
    "knn_pred = neigh.predict(test_df[['Total_minutes']])\n",
    "knn_pred"
   ]
  },
  {
   "cell_type": "markdown",
   "metadata": {},
   "source": [
    "Let's performs a grid search with cross-validation to find the best value of k (number of neighbors) for k-nearest neighbors classifier that inputs `Total_minutes`. "
   ]
  },
  {
   "cell_type": "code",
   "execution_count": 32,
   "metadata": {},
   "outputs": [
    {
     "name": "stdout",
     "output_type": "stream",
     "text": [
      "Best value of k:  75\n",
      "Best mean cross-validated score:  0.6466408551371309\n"
     ]
    }
   ],
   "source": [
    "# Define the param for grid search\n",
    "parameters = {'n_neighbors': range(1, 100)}\n",
    "\n",
    "# Create an instance of the k-NN regressor\n",
    "knn = KNeighborsClassifier()\n",
    "\n",
    "# Perform grid search using cross-validation\n",
    "grid_search = GridSearchCV(KNeighborsClassifier(), parameters, cv=5) # 5-fold cross-validation\n",
    "grid_search.fit(valid_df[['Total_minutes']], valid_df['M/F'])\n",
    "\n",
    "# Print the best parameter value and corresponding mean cross-validated score\n",
    "print(\"Best value of k: \", grid_search.best_params_['n_neighbors'])\n",
    "print(\"Best mean cross-validated score: \", grid_search.best_score_)"
   ]
  },
  {
   "cell_type": "markdown",
   "metadata": {},
   "source": [
    "The `best_score_` attribute of the GridSearchCV object stores the average score (e.g., accuracy, precision, recall) obtained by the model during cross-validation using the best combination of hyperparameters. It represents the performance estimate of the model on unseen data based on the selected hyperparameters [3].\n",
    "\n",
    "The KNN model with the best value of $k$ ($k$=75) achieved a mean cross-validated score of approximately 0.647. This means that during the grid search process, the KNN model with $k$=75 performed the best among the different values of $k$ tested. The mean cross-validated score of 0.647 indicates the average performance of the model across multiple folds during cross-validation.\n",
    "\n",
    "In this case, the KNN model with k=75 achieved a relatively moderate level of performance. "
   ]
  },
  {
   "cell_type": "code",
   "execution_count": 33,
   "metadata": {},
   "outputs": [],
   "source": [
    "best_n_neighbors = grid_search.best_params_['n_neighbors']\n",
    "neigh = KNeighborsClassifier(n_neighbors=best_n_neighbors)\n",
    "neigh.fit(train_df[['Total_minutes']], train_df['M/F'])\n",
    "knn_pred = neigh.predict(test_df[['Total_minutes']])"
   ]
  },
  {
   "cell_type": "code",
   "execution_count": 34,
   "metadata": {},
   "outputs": [
    {
     "data": {
      "image/png": "[encoded data removed]",
      "text/plain": [
       "<Figure size 432x216 with 2 Axes>"
      ]
     },
     "metadata": {},
     "output_type": "display_data"
    },
    {
     "name": "stdout",
     "output_type": "stream",
     "text": [
      "The accuracy of KNN with the best n_neighbors is: 0.65\n"
     ]
    }
   ],
   "source": [
    "cm = confusion_matrix(test_df['M/F'], knn_pred)\n",
    "# Plot the confusion matrix using a heatmap\n",
    "plt.figure(figsize=(6, 3))\n",
    "ax = plt.gca()\n",
    "sns.heatmap(cm, annot=True, cmap='Blues', fmt='d', ax=ax)\n",
    "ax.set_xlabel('Predicted')\n",
    "ax.set_ylabel('True')\n",
    "ax.set_title('Confusion Matrix')\n",
    "ax.xaxis.set_ticklabels(['Female', 'Male'])\n",
    "ax.yaxis.set_ticklabels(['Female', 'Male'])\n",
    "plt.show()\n",
    "\n",
    "# Print out the accuracy of KNN model\n",
    "knn_accuracy = accuracy_score(test_df['M/F'], knn_pred)\n",
    "print(\"The accuracy of KNN with the best n_neighbors is: {:.2f}\".format(knn_accuracy))"
   ]
  },
  {
   "cell_type": "markdown",
   "metadata": {},
   "source": [
    "Compared with 1-D KDE model with the same input feature (accuracy = 0.6571863117870722), KNN with the best n_neighbors give similar accuracy of 0.65."
   ]
  },
  {
   "cell_type": "markdown",
   "metadata": {
    "id": "5dVogWKIMzoW"
   },
   "source": [
    "## 4.2. KNN with the `Total_minutes` and `Age` features"
   ]
  },
  {
   "cell_type": "code",
   "execution_count": 35,
   "metadata": {},
   "outputs": [
    {
     "data": {
      "text/plain": [
       "array(['F', 'F', 'M', ..., 'M', 'M', 'F'], dtype=object)"
      ]
     },
     "execution_count": 35,
     "metadata": {},
     "output_type": "execute_result"
    }
   ],
   "source": [
    "k=5\n",
    "neigh = KNeighborsClassifier(n_neighbors=k)\n",
    "neigh.fit(train_df[['Total_minutes', 'Age']],train_df['M/F'])\n",
    "knn_pred = neigh.predict(test_df[['Total_minutes', 'Age']])\n",
    "knn_pred"
   ]
  },
  {
   "cell_type": "code",
   "execution_count": 36,
   "metadata": {},
   "outputs": [
    {
     "name": "stdout",
     "output_type": "stream",
     "text": [
      "Best value of k:  99\n",
      "Best mean cross-validated score:  0.7582897257380303\n"
     ]
    }
   ],
   "source": [
    "# Define the param for grid search\n",
    "parameters = {'n_neighbors': range(1, 100)}\n",
    "\n",
    "# Create an instance of the k-NN regressor\n",
    "knn = KNeighborsClassifier()\n",
    "\n",
    "# Perform grid search using cross-validation\n",
    "grid_search = GridSearchCV(KNeighborsClassifier(), parameters, cv=5) # 5-fold cross-validation\n",
    "grid_search.fit(valid_df[['Total_minutes', 'Age']], valid_df['M/F'])\n",
    "\n",
    "# Print the best parameter value and corresponding mean cross-validated score\n",
    "print(\"Best value of k: \", grid_search.best_params_['n_neighbors'])\n",
    "print(\"Best mean cross-validated score: \", grid_search.best_score_)"
   ]
  },
  {
   "cell_type": "markdown",
   "metadata": {},
   "source": [
    "The KNN model with the best value of `n_neighbors` ($k$=99) achieved a relatively high mean cross-validated score of 0.758, indicating its strong performance in predicting the gender of runners based on the features of `Total_minutes` and `Age`. Using additional features `Age` demonstrates better predictive performace in determining the gender of runners. "
   ]
  },
  {
   "cell_type": "code",
   "execution_count": 37,
   "metadata": {},
   "outputs": [],
   "source": [
    "best_n_neighbors = grid_search.best_params_['n_neighbors']\n",
    "neigh = KNeighborsClassifier(n_neighbors=best_n_neighbors)\n",
    "neigh.fit(train_df[['Total_minutes', 'Age']], train_df['M/F'])\n",
    "knn_pred = neigh.predict(test_df[['Total_minutes', 'Age']])"
   ]
  },
  {
   "cell_type": "code",
   "execution_count": 38,
   "metadata": {},
   "outputs": [
    {
     "data": {
      "image/png": "[encoded data removed]",
      "text/plain": [
       "<Figure size 432x216 with 2 Axes>"
      ]
     },
     "metadata": {},
     "output_type": "display_data"
    },
    {
     "name": "stdout",
     "output_type": "stream",
     "text": [
      "The accuracy of KNN with the best n_neighbors is: 0.76\n"
     ]
    }
   ],
   "source": [
    "cm = confusion_matrix(test_df['M/F'], knn_pred)\n",
    "# Plot the confusion matrix using a heatmap\n",
    "plt.figure(figsize=(6, 3))\n",
    "ax = plt.gca()\n",
    "sns.heatmap(cm, annot=True, cmap='Blues', fmt='d', ax=ax)\n",
    "ax.set_xlabel('Predicted')\n",
    "ax.set_ylabel('True')\n",
    "ax.set_title('Confusion Matrix')\n",
    "ax.xaxis.set_ticklabels(['Female', 'Male'])\n",
    "ax.yaxis.set_ticklabels(['Female', 'Male'])\n",
    "plt.show()\n",
    "\n",
    "# Print out the accuracy of KNN model\n",
    "knn_accuracy = accuracy_score(test_df['M/F'], knn_pred)\n",
    "print(\"The accuracy of KNN with the best n_neighbors is: {:.2f}\".format(knn_accuracy))"
   ]
  },
  {
   "cell_type": "code",
   "execution_count": 39,
   "metadata": {},
   "outputs": [
    {
     "name": "stdout",
     "output_type": "stream",
     "text": [
      "              precision    recall  f1-score   support\n",
      "\n",
      "           F       0.71      0.82      0.76      2971\n",
      "           M       0.83      0.72      0.77      3604\n",
      "\n",
      "    accuracy                           0.76      6575\n",
      "   macro avg       0.77      0.77      0.76      6575\n",
      "weighted avg       0.77      0.76      0.76      6575\n",
      "\n"
     ]
    }
   ],
   "source": [
    "# Calculate precision, recall, and F1 score\n",
    "classifier_report = classification_report(test_df['M/F'], knn_pred)\n",
    "print(classifier_report)"
   ]
  },
  {
   "cell_type": "markdown",
   "metadata": {},
   "source": [
    "From classification report of the KNN's performance in predicting the gender of runners based on the features of `Total_minutes` and `Age`, we can conclude that:\n",
    "\n",
    "* Precision: The model achieved a precision of 0.71 for `F` and 0.83 for `M`, therefore, only 71% of the predicted females and 83% of the predicted males were correctly classified.\n",
    "* Recall of 0.82 for `F`  and 0.72 for `M`, so that 82% of the actual females and 72% of the actual males were correctly classified.\n",
    "* F1-score: The F1-score combines precision and recall into a single metric. The F1-score for class `F` is 0.76 and for `M` is 0.77.\n"
   ]
  },
  {
   "cell_type": "markdown",
   "metadata": {},
   "source": [
    "When we use additional features for training, the second KNN model with the best value of `n_neighbors` ($k$=99) achieved an accuracy of 0.76, indicating its performance in predicting the gender of runners based on the features of `Total_minutes` and `Age` is significant improved."
   ]
  },
  {
   "cell_type": "markdown",
   "metadata": {},
   "source": [
    "### Observation for KNN vs KDE:\n",
    "\n",
    "Indeed, the accuracy of the K-Nearest Neighbors model based on `Age` and `Total_minutes` with an accuracy of 0.76 is comparable to the accuracy of the 2-D KDE model with an accuracy of 0.774. While the difference in accuracy is relatively small, it's important to consider that these models might excel in different aspects.\n",
    "\n",
    "As the 2-D KDE model estimates the probability density function based on the given data and uses Bayes' theorem to calculate the posterior probability. It captures the joint distribution of `Age` and `Total_minutes` and provides a density estimation. Although both models achieve similar accuracies, but 2-D KDE model has the advantage of capturing the underlying distribution of the data and can potentially provide more nuanced insights. In the another study, we may explore how to tune the 2-D KDE model and to see if it enhances predictive performance.\n"
   ]
  },
  {
   "cell_type": "markdown",
   "metadata": {
    "id": "5zCcyqdAsF7m"
   },
   "source": [
    "# 5. Linear Regression to Predict Finish Time:"
   ]
  },
  {
   "cell_type": "markdown",
   "metadata": {
    "id": "2icx_y2FmAeI"
   },
   "source": [
    "In this final section, we will use linear regression to predict finish times of runners.\n",
    "\n",
    "First, we need to convert `5K` into duration in minutes:"
   ]
  },
  {
   "cell_type": "code",
   "execution_count": 40,
   "metadata": {},
   "outputs": [
    {
     "data": {
      "text/html": [
       "<div>\n",
       "<style scoped>\n",
       "    .dataframe tbody tr th:only-of-type {\n",
       "        vertical-align: middle;\n",
       "    }\n",
       "\n",
       "    .dataframe tbody tr th {\n",
       "        vertical-align: top;\n",
       "    }\n",
       "\n",
       "    .dataframe thead th {\n",
       "        text-align: right;\n",
       "    }\n",
       "</style>\n",
       "<table border=\"1\" class=\"dataframe\">\n",
       "  <thead>\n",
       "    <tr style=\"text-align: right;\">\n",
       "      <th></th>\n",
       "      <th>Age</th>\n",
       "      <th>M/F</th>\n",
       "      <th>Country</th>\n",
       "      <th>5K</th>\n",
       "      <th>10K</th>\n",
       "      <th>15K</th>\n",
       "      <th>20K</th>\n",
       "      <th>Half</th>\n",
       "      <th>25K</th>\n",
       "      <th>30K</th>\n",
       "      <th>35K</th>\n",
       "      <th>40K</th>\n",
       "      <th>Finish</th>\n",
       "      <th>Pace</th>\n",
       "      <th>Overall</th>\n",
       "      <th>Gender</th>\n",
       "      <th>Division</th>\n",
       "      <th>Total_minutes</th>\n",
       "    </tr>\n",
       "  </thead>\n",
       "  <tbody>\n",
       "    <tr>\n",
       "      <th>1024</th>\n",
       "      <td>33</td>\n",
       "      <td>M</td>\n",
       "      <td>USA</td>\n",
       "      <td>18.550000</td>\n",
       "      <td>00:37:18</td>\n",
       "      <td>00:56:26</td>\n",
       "      <td>01:15:51</td>\n",
       "      <td>01:20:12</td>\n",
       "      <td>01:35:51</td>\n",
       "      <td>01:56:38</td>\n",
       "      <td>02:18:35</td>\n",
       "      <td>02:40:36</td>\n",
       "      <td>02:50:47</td>\n",
       "      <td>00:06:31</td>\n",
       "      <td>1026</td>\n",
       "      <td>985</td>\n",
       "      <td>825</td>\n",
       "      <td>170.783333</td>\n",
       "    </tr>\n",
       "    <tr>\n",
       "      <th>14892</th>\n",
       "      <td>40</td>\n",
       "      <td>F</td>\n",
       "      <td>USA</td>\n",
       "      <td>26.733333</td>\n",
       "      <td>00:53:34</td>\n",
       "      <td>01:20:44</td>\n",
       "      <td>01:47:42</td>\n",
       "      <td>01:53:30</td>\n",
       "      <td>02:14:47</td>\n",
       "      <td>02:42:09</td>\n",
       "      <td>03:09:04</td>\n",
       "      <td>03:34:16</td>\n",
       "      <td>03:45:06</td>\n",
       "      <td>00:08:36</td>\n",
       "      <td>14970</td>\n",
       "      <td>5196</td>\n",
       "      <td>914</td>\n",
       "      <td>225.100000</td>\n",
       "    </tr>\n",
       "    <tr>\n",
       "      <th>13216</th>\n",
       "      <td>55</td>\n",
       "      <td>M</td>\n",
       "      <td>USA</td>\n",
       "      <td>25.233333</td>\n",
       "      <td>00:49:51</td>\n",
       "      <td>01:14:52</td>\n",
       "      <td>01:41:52</td>\n",
       "      <td>01:47:19</td>\n",
       "      <td>02:07:11</td>\n",
       "      <td>02:33:40</td>\n",
       "      <td>03:01:24</td>\n",
       "      <td>03:27:57</td>\n",
       "      <td>03:39:35</td>\n",
       "      <td>00:08:23</td>\n",
       "      <td>13277</td>\n",
       "      <td>9100</td>\n",
       "      <td>653</td>\n",
       "      <td>219.583333</td>\n",
       "    </tr>\n",
       "    <tr>\n",
       "      <th>10302</th>\n",
       "      <td>37</td>\n",
       "      <td>M</td>\n",
       "      <td>USA</td>\n",
       "      <td>26.283333</td>\n",
       "      <td>00:50:37</td>\n",
       "      <td>01:15:09</td>\n",
       "      <td>01:40:43</td>\n",
       "      <td>01:46:17</td>\n",
       "      <td>02:07:12</td>\n",
       "      <td>02:33:12</td>\n",
       "      <td>02:57:48</td>\n",
       "      <td>03:21:09</td>\n",
       "      <td>03:30:35</td>\n",
       "      <td>00:08:02</td>\n",
       "      <td>10337</td>\n",
       "      <td>7833</td>\n",
       "      <td>3560</td>\n",
       "      <td>210.583333</td>\n",
       "    </tr>\n",
       "    <tr>\n",
       "      <th>13164</th>\n",
       "      <td>57</td>\n",
       "      <td>M</td>\n",
       "      <td>USA</td>\n",
       "      <td>25.300000</td>\n",
       "      <td>00:49:50</td>\n",
       "      <td>01:14:45</td>\n",
       "      <td>01:39:49</td>\n",
       "      <td>01:45:22</td>\n",
       "      <td>02:05:06</td>\n",
       "      <td>02:31:41</td>\n",
       "      <td>02:59:42</td>\n",
       "      <td>03:27:39</td>\n",
       "      <td>03:39:26</td>\n",
       "      <td>00:08:23</td>\n",
       "      <td>13224</td>\n",
       "      <td>9080</td>\n",
       "      <td>647</td>\n",
       "      <td>219.433333</td>\n",
       "    </tr>\n",
       "  </tbody>\n",
       "</table>\n",
       "</div>"
      ],
      "text/plain": [
       "       Age M/F Country         5K       10K       15K       20K      Half  \\\n",
       "1024    33   M     USA  18.550000  00:37:18  00:56:26  01:15:51  01:20:12   \n",
       "14892   40   F     USA  26.733333  00:53:34  01:20:44  01:47:42  01:53:30   \n",
       "13216   55   M     USA  25.233333  00:49:51  01:14:52  01:41:52  01:47:19   \n",
       "10302   37   M     USA  26.283333  00:50:37  01:15:09  01:40:43  01:46:17   \n",
       "13164   57   M     USA  25.300000  00:49:50  01:14:45  01:39:49  01:45:22   \n",
       "\n",
       "            25K       30K       35K       40K    Finish      Pace  Overall  \\\n",
       "1024   01:35:51  01:56:38  02:18:35  02:40:36  02:50:47  00:06:31     1026   \n",
       "14892  02:14:47  02:42:09  03:09:04  03:34:16  03:45:06  00:08:36    14970   \n",
       "13216  02:07:11  02:33:40  03:01:24  03:27:57  03:39:35  00:08:23    13277   \n",
       "10302  02:07:12  02:33:12  02:57:48  03:21:09  03:30:35  00:08:02    10337   \n",
       "13164  02:05:06  02:31:41  02:59:42  03:27:39  03:39:26  00:08:23    13224   \n",
       "\n",
       "       Gender  Division  Total_minutes  \n",
       "1024      985       825     170.783333  \n",
       "14892    5196       914     225.100000  \n",
       "13216    9100       653     219.583333  \n",
       "10302    7833      3560     210.583333  \n",
       "13164    9080       647     219.433333  "
      ]
     },
     "execution_count": 40,
     "metadata": {},
     "output_type": "execute_result"
    }
   ],
   "source": [
    "# Convert the '5K' column to timedelta objects and then calculate the total duration in minutes.\n",
    "train_df['5K'] = pd.to_timedelta(train_df['5K']).dt.total_seconds() / 60\n",
    "test_df['5K'] = pd.to_timedelta(test_df['5K']).dt.total_seconds() / 60\n",
    "\n",
    "train_df.head()"
   ]
  },
  {
   "cell_type": "markdown",
   "metadata": {},
   "source": [
    "## 5.1. Linear Regression based on 5K times"
   ]
  },
  {
   "cell_type": "markdown",
   "metadata": {},
   "source": [
    " We base on runners `5K` times for feature input."
   ]
  },
  {
   "cell_type": "code",
   "execution_count": 41,
   "metadata": {
    "id": "eJGiS-swtEfy"
   },
   "outputs": [],
   "source": [
    "# Model training\n",
    "lr = LinearRegression()\n",
    "lr.fit(train_df[['5K']], train_df['Total_minutes'])\n",
    "lr_pred = lr.predict(test_df[['5K']])"
   ]
  },
  {
   "cell_type": "code",
   "execution_count": 42,
   "metadata": {},
   "outputs": [
    {
     "data": {
      "image/png": "[encoded data removed]",
      "text/plain": [
       "<Figure size 432x288 with 1 Axes>"
      ]
     },
     "metadata": {},
     "output_type": "display_data"
    }
   ],
   "source": [
    "# Plotting the linear line\n",
    "plt.scatter(test_df['5K'], test_df['Total_minutes'], color='blue', label='Actual')\n",
    "plt.plot(test_df['5K'], lr_pred, color='red', linewidth=2, label='Predicted')\n",
    "plt.xlabel('5K Time')\n",
    "plt.ylabel('Finish Time')\n",
    "plt.legend()\n",
    "plt.title('Linear Regression: Predicted vs Actual')\n",
    "plt.show()\n"
   ]
  },
  {
   "cell_type": "code",
   "execution_count": 43,
   "metadata": {},
   "outputs": [
    {
     "name": "stdout",
     "output_type": "stream",
     "text": [
      "Mean squared error: 244.60\n",
      "Root mean squared error (RMSE): 15.64\n",
      "Coefficient of determination: 0.85\n",
      "Coefficients: 9.20\n"
     ]
    }
   ],
   "source": [
    "# # Evaluaion metric for linear regression\n",
    "mse = mean_squared_error(test_df['Total_minutes'], lr_pred)\n",
    "print(\"Mean squared error: %.2f\" % mse)\n",
    "print(\"Root mean squared error (RMSE): %.2f\" % np.sqrt(mse))\n",
    "print(\"Coefficient of determination: %.2f\" % r2_score(test_df['Total_minutes'], lr_pred))\n",
    "print(\"Coefficients: %.2f\" % lr.coef_)"
   ]
  },
  {
   "cell_type": "markdown",
   "metadata": {},
   "source": [
    "For linear model, we don't use accuracy as metric evaluation, instead, computing `Mean squared error` which measures the average squared difference between the predicted finish times and the actual finish time of runners, and `Root mean squared error` which is the square root of MSE. \n",
    "\n",
    "Our MSE for linear regression using only `5K` as feature input is 244.60 which indicates that the deviation to actual finish times is 244.60. The coefficient of determination, also known as R-squared, measures the proportion of the variance in the finish times that can be explained by the linear regression model. And our value of 0.85 indicates that the model accounts for approximately 85% of the variability in the finish times based on the `5K` feature alone, suggesting that the `5K` feature is a strong predictor of the finish times. The coefficient of 9.20 is the slope of the linear regression line for the `5K` feature. This positive coefficient shows that faster `5K` time is associated with a faster finish time."
   ]
  },
  {
   "cell_type": "markdown",
   "metadata": {},
   "source": [
    "## 5.2. Linear Regression with combination of features"
   ]
  },
  {
   "cell_type": "markdown",
   "metadata": {},
   "source": [
    "We continue building another linear regression model that uses other data `Age` and `M/F` together with the `5K` times to predict finish times, and check if this meaningfully improves the predictions."
   ]
  },
  {
   "cell_type": "code",
   "execution_count": 44,
   "metadata": {},
   "outputs": [
    {
     "name": "stdout",
     "output_type": "stream",
     "text": [
      "Mean squared error: 240.73\n",
      "Root Mean Squared Error (RMSE): 15.52\n",
      "Coefficient of determination: 0.85\n",
      "Coefficients:\n",
      "Age: 0.08\n",
      "M/F: -0.08\n",
      "Country: 36.55\n",
      "5K: 2.02\n"
     ]
    }
   ],
   "source": [
    "# Scale numeric features '5K' and 'Age'\n",
    "scaler = StandardScaler()\n",
    "train_df[['5K', 'Age']] = scaler.fit_transform(train_df[['5K', 'Age']])\n",
    "test_df[['5K', 'Age']] = scaler.transform(test_df[['5K', 'Age']])\n",
    "\n",
    "# One-hot encode the categorical feature\n",
    "encoder = OneHotEncoder(sparse=False)\n",
    "train_encoded = encoder.fit_transform(train_df[['M/F']])\n",
    "test_encoded = encoder.transform(test_df[['M/F']])\n",
    "\n",
    "# Combine the encoded categorical feature with the scaled numeric features\n",
    "train_scaled = np.hstack((train_encoded, train_df[['5K', 'Age']]))\n",
    "test_scaled = np.hstack((test_encoded, test_df[['5K', 'Age']]))\n",
    "\n",
    "# Predictions using linear regression\n",
    "lr = LinearRegression()\n",
    "lr.fit(train_scaled, train_df['Total_minutes'])\n",
    "lr_pred = lr.predict(test_scaled)\n",
    "\n",
    "# Evaluaion metric for linear regression\n",
    "mse = mean_squared_error(test_df['Total_minutes'], lr_pred)\n",
    "print(\"Mean squared error: %.2f\" % mse)\n",
    "print(\"Root Mean Squared Error (RMSE): %.2f\" % np.sqrt(mse))\n",
    "print(\"Coefficient of determination: %.2f\" % r2_score(test_df['Total_minutes'], lr_pred))\n",
    "print(\"Coefficients:\")\n",
    "for feature, coefficient in zip(train_df.columns, lr.coef_):\n",
    "    print(f\"{feature}: {coefficient:.2f}\")\n"
   ]
  },
  {
   "cell_type": "markdown",
   "metadata": {},
   "source": [
    "The coefficients represent the estimated impact of each feature on the target variable `Total_minutes`. In this case, our coefficients for this linear regression model are: \n",
    "\n",
    "\n",
    "`5K`: 2.02 has a positive impact on `Total_minutes`.\n",
    "\n",
    "`Age`: 0.08 has a positive impact on `Total_minutes`.\n",
    "\n",
    "`M/F`: has a positive impact on `Total_minutes`.\n"
   ]
  },
  {
   "cell_type": "markdown",
   "metadata": {},
   "source": [
    "Compare to `MSE` from previous model using only one feature input, 240.73 is smaller compared to 244.60. \n",
    "    Both models have similar `RMSE` values, our model with 3 feature inputs having a slightly lower value of 15.52 compared to model using `5K` feature  with 15.64, I think model 2 performs slightly better. Both models have the same R-squared value of 0.85, likely, both models can explain approximately 85% of the variance in the target variable `Total_minutes`.\n"
   ]
  },
  {
   "cell_type": "markdown",
   "metadata": {},
   "source": [
    "# 6. Conclusion:\n",
    "\n",
    "Although we have explored several models such as 1D Kernel Density Estimation (KDE), 2D KDE, K-Nearest Neighbors (KNN), and Linear Regression for gender prediction in the marathon dataset, there are still potential areas for further investigation and improvement. For future direction, we can use linear regression model from PyTorch which enables the advanced capabilities for building and training neural networks. This might be an improvement on complex relationships within `marathon_result` dataset. Additionally, I think using additional features such as `Country` and `Pace` for training can provide more information for the models. Example, `Pace` reflects velocity differences between `M/F`, so potentially contribute to higher accurate prediction. "
   ]
  },
  {
   "cell_type": "markdown",
   "metadata": {},
   "source": [
    "# 7. Appendix:"
   ]
  },
  {
   "cell_type": "markdown",
   "metadata": {},
   "source": [
    "[1] Kernel density estimation | Cartography Playground. (n.d.). Cartography-Playground.gitlab.io. Retrieved May 14, 2023, from https://cartography-playground.gitlab.io/playgrounds/kernel-density-estimation/\n",
    "\n",
    "\n",
    "[2] Wikipedia Contributors. (2019, September 11). Kernel density estimation. Wikipedia; Wikimedia Foundation. https://en.wikipedia.org/wiki/Kernel_density_estimation\n",
    "\n",
    "\n",
    "[3] Shah, R. (2021, June 23). GridSearchCV |Tune Hyperparameters with GridSearchCV. Analytics Vidhya. https://www.analyticsvidhya.com/blog/2021/06/tune-hyperparameters-with-gridsearchcv/\n",
    "\n",
    "\n",
    "[4] Code was adopted from class lecture week 14"
   ]
  }
 ],
 "metadata": {
  "colab": {
   "provenance": []
  },
  "kernelspec": {
   "display_name": "Python 3 (ipykernel)",
   "language": "python",
   "name": "python3"
  },
  "language_info": {
   "codemirror_mode": {
    "name": "ipython",
    "version": 3
   },
   "file_extension": ".py",
   "mimetype": "text/x-python",
   "name": "python",
   "nbconvert_exporter": "python",
   "pygments_lexer": "ipython3",
   "version": "3.9.12"
  },
  "widgets": {
   "application/vnd.jupyter.widget-state+json": {
    "1d2dd82b0b73429ab3fdbd15179af211": {
     "model_module": "@jupyter-widgets/base",
     "model_module_version": "1.2.0",
     "model_name": "LayoutModel",
     "state": {
      "_model_module": "@jupyter-widgets/base",
      "_model_module_version": "1.2.0",
      "_model_name": "LayoutModel",
      "_view_count": null,
      "_view_module": "@jupyter-widgets/base",
      "_view_module_version": "1.2.0",
      "_view_name": "LayoutView",
      "align_content": null,
      "align_items": null,
      "align_self": null,
      "border": null,
      "bottom": null,
      "display": null,
      "flex": null,
      "flex_flow": null,
      "grid_area": null,
      "grid_auto_columns": null,
      "grid_auto_flow": null,
      "grid_auto_rows": null,
      "grid_column": null,
      "grid_gap": null,
      "grid_row": null,
      "grid_template_areas": null,
      "grid_template_columns": null,
      "grid_template_rows": null,
      "height": null,
      "justify_content": null,
      "justify_items": null,
      "left": null,
      "margin": null,
      "max_height": null,
      "max_width": null,
      "min_height": null,
      "min_width": null,
      "object_fit": null,
      "object_position": null,
      "order": null,
      "overflow": null,
      "overflow_x": null,
      "overflow_y": null,
      "padding": null,
      "right": null,
      "top": null,
      "visibility": null,
      "width": null
     }
    },
    "2803f9fb50d74aa7a118a69b9753c5ac": {
     "model_module": "@jupyter-widgets/controls",
     "model_module_version": "1.5.0",
     "model_name": "FloatSliderModel",
     "state": {
      "_dom_classes": [],
      "_model_module": "@jupyter-widgets/controls",
      "_model_module_version": "1.5.0",
      "_model_name": "FloatSliderModel",
      "_view_count": null,
      "_view_module": "@jupyter-widgets/controls",
      "_view_module_version": "1.5.0",
      "_view_name": "FloatSliderView",
      "continuous_update": true,
      "description": "shift",
      "description_tooltip": null,
      "disabled": false,
      "layout": "IPY_MODEL_55ba846fe33d4ee9a072d8d51aaa23b6",
      "max": 5,
      "min": 0,
      "orientation": "horizontal",
      "readout": true,
      "readout_format": ".2f",
      "step": 0.25,
      "style": "IPY_MODEL_97bc86863d824d8b9572ff8a230d02fa",
      "value": 0
     }
    },
    "38b6cb067ccb46f388a402cf9773ca2c": {
     "model_module": "@jupyter-widgets/controls",
     "model_module_version": "1.5.0",
     "model_name": "SliderStyleModel",
     "state": {
      "_model_module": "@jupyter-widgets/controls",
      "_model_module_version": "1.5.0",
      "_model_name": "SliderStyleModel",
      "_view_count": null,
      "_view_module": "@jupyter-widgets/base",
      "_view_module_version": "1.2.0",
      "_view_name": "StyleView",
      "description_width": "",
      "handle_color": null
     }
    },
    "4a96ef52ae0a45aea1b0733ffe6004a6": {
     "model_module": "@jupyter-widgets/controls",
     "model_module_version": "1.5.0",
     "model_name": "IntSliderModel",
     "state": {
      "_dom_classes": [],
      "_model_module": "@jupyter-widgets/controls",
      "_model_module_version": "1.5.0",
      "_model_name": "IntSliderModel",
      "_view_count": null,
      "_view_module": "@jupyter-widgets/controls",
      "_view_module_version": "1.5.0",
      "_view_name": "IntSliderView",
      "continuous_update": true,
      "description": "bins",
      "description_tooltip": null,
      "disabled": false,
      "layout": "IPY_MODEL_9f5758c6e45d4720af422d3e0e507fbc",
      "max": 30,
      "min": 1,
      "orientation": "horizontal",
      "readout": true,
      "readout_format": "d",
      "step": 1,
      "style": "IPY_MODEL_38b6cb067ccb46f388a402cf9773ca2c",
      "value": 10
     }
    },
    "55ba846fe33d4ee9a072d8d51aaa23b6": {
     "model_module": "@jupyter-widgets/base",
     "model_module_version": "1.2.0",
     "model_name": "LayoutModel",
     "state": {
      "_model_module": "@jupyter-widgets/base",
      "_model_module_version": "1.2.0",
      "_model_name": "LayoutModel",
      "_view_count": null,
      "_view_module": "@jupyter-widgets/base",
      "_view_module_version": "1.2.0",
      "_view_name": "LayoutView",
      "align_content": null,
      "align_items": null,
      "align_self": null,
      "border": null,
      "bottom": null,
      "display": null,
      "flex": null,
      "flex_flow": null,
      "grid_area": null,
      "grid_auto_columns": null,
      "grid_auto_flow": null,
      "grid_auto_rows": null,
      "grid_column": null,
      "grid_gap": null,
      "grid_row": null,
      "grid_template_areas": null,
      "grid_template_columns": null,
      "grid_template_rows": null,
      "height": null,
      "justify_content": null,
      "justify_items": null,
      "left": null,
      "margin": null,
      "max_height": null,
      "max_width": null,
      "min_height": null,
      "min_width": null,
      "object_fit": null,
      "object_position": null,
      "order": null,
      "overflow": null,
      "overflow_x": null,
      "overflow_y": null,
      "padding": null,
      "right": null,
      "top": null,
      "visibility": null,
      "width": null
     }
    },
    "97bc86863d824d8b9572ff8a230d02fa": {
     "model_module": "@jupyter-widgets/controls",
     "model_module_version": "1.5.0",
     "model_name": "SliderStyleModel",
     "state": {
      "_model_module": "@jupyter-widgets/controls",
      "_model_module_version": "1.5.0",
      "_model_name": "SliderStyleModel",
      "_view_count": null,
      "_view_module": "@jupyter-widgets/base",
      "_view_module_version": "1.2.0",
      "_view_name": "StyleView",
      "description_width": "",
      "handle_color": null
     }
    },
    "9f5758c6e45d4720af422d3e0e507fbc": {
     "model_module": "@jupyter-widgets/base",
     "model_module_version": "1.2.0",
     "model_name": "LayoutModel",
     "state": {
      "_model_module": "@jupyter-widgets/base",
      "_model_module_version": "1.2.0",
      "_model_name": "LayoutModel",
      "_view_count": null,
      "_view_module": "@jupyter-widgets/base",
      "_view_module_version": "1.2.0",
      "_view_name": "LayoutView",
      "align_content": null,
      "align_items": null,
      "align_self": null,
      "border": null,
      "bottom": null,
      "display": null,
      "flex": null,
      "flex_flow": null,
      "grid_area": null,
      "grid_auto_columns": null,
      "grid_auto_flow": null,
      "grid_auto_rows": null,
      "grid_column": null,
      "grid_gap": null,
      "grid_row": null,
      "grid_template_areas": null,
      "grid_template_columns": null,
      "grid_template_rows": null,
      "height": null,
      "justify_content": null,
      "justify_items": null,
      "left": null,
      "margin": null,
      "max_height": null,
      "max_width": null,
      "min_height": null,
      "min_width": null,
      "object_fit": null,
      "object_position": null,
      "order": null,
      "overflow": null,
      "overflow_x": null,
      "overflow_y": null,
      "padding": null,
      "right": null,
      "top": null,
      "visibility": null,
      "width": null
     }
    },
    "ab68164f1d3a41388461bd8a33856e76": {
     "model_module": "@jupyter-widgets/output",
     "model_module_version": "1.0.0",
     "model_name": "OutputModel",
     "state": {
      "_dom_classes": [],
      "_model_module": "@jupyter-widgets/output",
      "_model_module_version": "1.0.0",
      "_model_name": "OutputModel",
      "_view_count": null,
      "_view_module": "@jupyter-widgets/output",
      "_view_module_version": "1.0.0",
      "_view_name": "OutputView",
      "layout": "IPY_MODEL_d8b7d332c5194df1916ace61a2090334",
      "msg_id": "",
      "outputs": [
       {
        "data": {
         "image/png": "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\n",
         "text/plain": "<Figure size 600x300 with 1 Axes>"
        },
        "metadata": {
         "image/png": {
          "height": 278,
          "width": 554
         }
        },
        "output_type": "display_data"
       }
      ]
     }
    },
    "cfe5ef48bdf54023b17476cd8d4ed089": {
     "model_module": "@jupyter-widgets/controls",
     "model_module_version": "1.5.0",
     "model_name": "VBoxModel",
     "state": {
      "_dom_classes": [
       "widget-interact"
      ],
      "_model_module": "@jupyter-widgets/controls",
      "_model_module_version": "1.5.0",
      "_model_name": "VBoxModel",
      "_view_count": null,
      "_view_module": "@jupyter-widgets/controls",
      "_view_module_version": "1.5.0",
      "_view_name": "VBoxView",
      "box_style": "",
      "children": [
       "IPY_MODEL_4a96ef52ae0a45aea1b0733ffe6004a6",
       "IPY_MODEL_2803f9fb50d74aa7a118a69b9753c5ac",
       "IPY_MODEL_ab68164f1d3a41388461bd8a33856e76"
      ],
      "layout": "IPY_MODEL_1d2dd82b0b73429ab3fdbd15179af211"
     }
    },
    "d8b7d332c5194df1916ace61a2090334": {
     "model_module": "@jupyter-widgets/base",
     "model_module_version": "1.2.0",
     "model_name": "LayoutModel",
     "state": {
      "_model_module": "@jupyter-widgets/base",
      "_model_module_version": "1.2.0",
      "_model_name": "LayoutModel",
      "_view_count": null,
      "_view_module": "@jupyter-widgets/base",
      "_view_module_version": "1.2.0",
      "_view_name": "LayoutView",
      "align_content": null,
      "align_items": null,
      "align_self": null,
      "border": null,
      "bottom": null,
      "display": null,
      "flex": null,
      "flex_flow": null,
      "grid_area": null,
      "grid_auto_columns": null,
      "grid_auto_flow": null,
      "grid_auto_rows": null,
      "grid_column": null,
      "grid_gap": null,
      "grid_row": null,
      "grid_template_areas": null,
      "grid_template_columns": null,
      "grid_template_rows": null,
      "height": null,
      "justify_content": null,
      "justify_items": null,
      "left": null,
      "margin": null,
      "max_height": null,
      "max_width": null,
      "min_height": null,
      "min_width": null,
      "object_fit": null,
      "object_position": null,
      "order": null,
      "overflow": null,
      "overflow_x": null,
      "overflow_y": null,
      "padding": null,
      "right": null,
      "top": null,
      "visibility": null,
      "width": null
     }
    }
   }
  }
 },
 "nbformat": 4,
 "nbformat_minor": 1
}
